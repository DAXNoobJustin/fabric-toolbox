{
 "cells": [
  {
   "cell_type": "markdown",
   "id": "438cda61-a20b-435c-bda6-29d8c801a6fd",
   "metadata": {
    "microsoft": {
     "language": "python",
     "language_group": "synapse_pyspark"
    },
    "nteract": {
     "transient": {
      "deleting": false
     }
    }
   },
   "source": [
    "# Data Agents Creation and Prep Data for AI\n"
   ]
  },
  {
   "cell_type": "code",
   "execution_count": null,
   "id": "a1555695-b1bc-4439-8e03-4b67b2a9bf7e",
   "metadata": {
    "jupyter": {
     "outputs_hidden": true
    },
    "microsoft": {
     "language": "python",
     "language_group": "synapse_pyspark"
    }
   },
   "outputs": [],
   "source": [
    "%pip install semantic-link-labs"
   ]
  },
  {
   "cell_type": "code",
   "execution_count": null,
   "id": "5b91682c",
   "metadata": {},
   "outputs": [],
   "source": [
    "%pip install fabric-data-agent-sdk==0.1.10a0"
   ]
  },
  {
   "cell_type": "code",
   "execution_count": null,
   "id": "d0e81928",
   "metadata": {},
   "outputs": [],
   "source": [
    "from fabric.dataagent.client import (\n",
    "    FabricDataAgentManagement,\n",
    "    create_data_agent,\n",
    ") \n",
    "import sempy_labs as labs\n",
    "import sempy.fabric as fabric"
   ]
  },
  {
   "cell_type": "code",
   "execution_count": 2,
   "id": "3a8e264e-5d61-4b77-b748-9cfc5fb017eb",
   "metadata": {
    "microsoft": {
     "language": "python",
     "language_group": "synapse_pyspark"
    }
   },
   "outputs": [
    {
     "data": {
      "application/vnd.livy.statement-meta+json": {
       "execution_finish_time": "2025-07-22T11:25:51.7227919Z",
       "execution_start_time": "2025-07-22T11:25:51.4150386Z",
       "livy_statement_state": "available",
       "normalized_state": "finished",
       "parent_msg_id": "4869ef15-0708-41bb-91d1-d1f95e8241df",
       "queued_time": "2025-07-22T11:25:22.6012623Z",
       "session_id": "4f2cf745-a009-4414-8a29-23fb2b6124e4",
       "session_start_time": null,
       "spark_pool": null,
       "state": "finished",
       "statement_id": 11,
       "statement_ids": [
        11
       ]
      },
      "text/plain": [
       "StatementMeta(, 4f2cf745-a009-4414-8a29-23fb2b6124e4, 11, Finished, Available, Finished)"
      ]
     },
     "metadata": {},
     "output_type": "display_data"
    }
   ],
   "source": [
    "semanticmodel_name = \"FCA_Core_SM\"\n",
    "data_agent_name = \"FCA_Agent\""
   ]
  },
  {
   "cell_type": "code",
   "execution_count": null,
   "id": "8133bd3d-7296-4f72-a9c1-e02599898cf9",
   "metadata": {
    "microsoft": {
     "language": "python",
     "language_group": "synapse_pyspark"
    }
   },
   "outputs": [
    {
     "data": {
      "application/vnd.livy.statement-meta+json": {
       "execution_finish_time": "2025-07-22T11:29:35.4359671Z",
       "execution_start_time": "2025-07-22T11:29:33.0435821Z",
       "livy_statement_state": "available",
       "normalized_state": "finished",
       "parent_msg_id": "0bc47876-c1cd-4493-bfc0-5cee82b8925c",
       "queued_time": "2025-07-22T11:29:33.0424801Z",
       "session_id": "4f2cf745-a009-4414-8a29-23fb2b6124e4",
       "session_start_time": null,
       "spark_pool": null,
       "state": "finished",
       "statement_id": 19,
       "statement_ids": [
        19
       ]
      },
      "text/plain": [
       "StatementMeta(, 4f2cf745-a009-4414-8a29-23fb2b6124e4, 19, Finished, Available, Finished)"
      ]
     },
     "metadata": {},
     "output_type": "display_data"
    }
   ],
   "source": [
    "# Use create_data_agent() to create a new agent instance\n",
    "data_agent = create_data_agent(data_agent_name)\n",
    "\n",
    "# Use FabricDataAgentManagement() to connect to an existing agent with the same name\n",
    "#data_agent = FabricDataAgentManagement(data_agent_name)\n",
    "\n",
    "#delete_data_agent(data_agent_name)"
   ]
  },
  {
   "cell_type": "code",
   "execution_count": null,
   "id": "faf9706a-898c-4d62-bae0-06937f24b13a",
   "metadata": {
    "microsoft": {
     "language": "python",
     "language_group": "synapse_pyspark"
    }
   },
   "outputs": [],
   "source": [
    "data_agent.add_datasource(semanticmodel_name, type=\"semanticmodel\")"
   ]
  },
  {
   "cell_type": "code",
   "execution_count": null,
   "id": "a5bc451f-1b48-4ee4-b9b5-069feeeb76e6",
   "metadata": {
    "microsoft": {
     "language": "python",
     "language_group": "synapse_pyspark"
    }
   },
   "outputs": [],
   "source": [
    "user_instructions = \"You are a FinOps expert agent that aims to facilitate the understanding and monitoring of the Microsoft Fabric Cost based on the solution Fabric Cost Analysis (FCA). All cost measures, including #PauseCost, are denominated in the currency indicated by the first value present in the BillingCurrency column of the fca table. When answering about a pausing a capacity, make sure to include the #PauseCost. Reservation (RI) are a saving mecanism #Reservation. The number of capacities is available in the #Capacities measure. The RegionName from the table fca contain the region of the different Fabric Capacities deployed. Additional Cost from the mesure #OtherPAYG contain extra cost. Storage cost are avaiblable with the #OneLake measure and also are additional cost. You can save money with Fabric capacity reservation (RI) by committing to a reservation for your Fabric capacity usage for a duration of one year (41% savings). When you purchase a reservation, the Fabric capacity usage that matches the reservation attributes is no longer charged at the pay-as-you-go rates. Meters (Name column from meters table) contain the details of the different activities made on top of the capacities. They are categorized by the column Category from the same table. When answering about witch capacity cost the most and why, you can refer to the #TotalCost measure and showcase the top 3 meters and their related Category and why not suggest if relevant the use of a reservation (RI) to save money. The description of the Meters are available in the column Description from the meters table.\"\n",
    "data_agent.update_configuration(\n",
    "    instructions=user_instructions,\n",
    ")\n",
    "data_agent.get_configuration()"
   ]
  },
  {
   "cell_type": "code",
   "execution_count": null,
   "id": "f06ddfd1-28df-44d4-be6a-62279fb89da8",
   "metadata": {
    "microsoft": {
     "language": "python",
     "language_group": "synapse_pyspark"
    }
   },
   "outputs": [
    {
     "data": {
      "application/vnd.livy.statement-meta+json": {
       "execution_finish_time": "2025-07-22T11:39:34.9866308Z",
       "execution_start_time": "2025-07-22T11:39:32.6819503Z",
       "livy_statement_state": "available",
       "normalized_state": "finished",
       "parent_msg_id": "5d0c2642-f9d3-436e-a49d-a20197477462",
       "queued_time": "2025-07-22T11:39:32.6808283Z",
       "session_id": "4f2cf745-a009-4414-8a29-23fb2b6124e4",
       "session_start_time": null,
       "spark_pool": null,
       "state": "finished",
       "statement_id": 28,
       "statement_ids": [
        28
       ]
      },
      "text/plain": [
       "StatementMeta(, 4f2cf745-a009-4414-8a29-23fb2b6124e4, 28, Finished, Available, Finished)"
      ]
     },
     "metadata": {},
     "output_type": "display_data"
    }
   ],
   "source": [
    "datasource = data_agent.get_datasources()[0]\n",
    "datasource.select('calendar')\n",
    "datasource.select('meters')\n",
    "datasource.select('fca')"
   ]
  },
  {
   "cell_type": "code",
   "execution_count": null,
   "id": "99054dcd",
   "metadata": {},
   "outputs": [],
   "source": [
    "ds_notes = \"\"\" \\\n",
    "All cost measures, including #PauseCost, are denominated in the currency indicated by the first value present in the BillingCurrency column of the fca table.\n",
    "When answering about a pausing a capacity, make sure to include the #PauseCost.\n",
    "Reservation (RI) are a saving mecanism #Reservation.\n",
    "The number of capacities is available in the #Capacities measure.\n",
    "The RegionName from the table fca contain the region of the different Fabric Capacities deployed.\n",
    "Additional Cost from the mesure #OtherPAYG contain extra cost.\n",
    "Storage cost are avaiblable with the #OneLake measure and also are additional cost.\n",
    "You can save money with Fabric capacity reservation (RI) by committing to a reservation for your Fabric capacity usage for a duration of one year (41% savings).\n",
    "When you purchase a reservation, the Fabric capacity usage that matches the reservation attributes is no longer charged at the pay-as-you-go rates.\n",
    "Meters (Name column from meters table) contain the details of the different activities made on top of the capacities. They are categorized by the column Category from the same table.\n",
    "When answering about witch capacity cost the most and why, you can refer to the #TotalCost measure and showcase the top 3 meters and their related Category and why not suggest if relevant the use of a reservation (RI) to save money.\n",
    "The description of the Meters are available in the column Description from the meters table.\n",
    "\"\"\"\n",
    "data_agent.update_configuration(\n",
    "    instructions=user_instructions,\n",
    ")\n",
    "datasource.get_configuration()"
   ]
  },
  {
   "cell_type": "code",
   "execution_count": 20,
   "id": "5c7dcadb-a497-4e78-9a9e-eb345c1b4238",
   "metadata": {
    "microsoft": {
     "language": "python",
     "language_group": "synapse_pyspark"
    }
   },
   "outputs": [
    {
     "data": {
      "application/vnd.livy.statement-meta+json": {
       "execution_finish_time": "2025-07-22T11:39:51.9352527Z",
       "execution_start_time": "2025-07-22T11:39:49.5546088Z",
       "livy_statement_state": "available",
       "normalized_state": "finished",
       "parent_msg_id": "7bfdbdfb-1e13-425f-b761-1ff4171f714b",
       "queued_time": "2025-07-22T11:39:49.5535176Z",
       "session_id": "4f2cf745-a009-4414-8a29-23fb2b6124e4",
       "session_start_time": null,
       "spark_pool": null,
       "state": "finished",
       "statement_id": 29,
       "statement_ids": [
        29
       ]
      },
      "text/plain": [
       "StatementMeta(, 4f2cf745-a009-4414-8a29-23fb2b6124e4, 29, Finished, Available, Finished)"
      ]
     },
     "metadata": {},
     "output_type": "display_data"
    }
   ],
   "source": [
    "data_agent.publish()"
   ]
  }
 ],
 "metadata": {
  "dependencies": {
   "lakehouse": {
    "default_lakehouse": "edea360e-6c6d-4761-aeca-d57df8bd7b91",
    "default_lakehouse_name": "FCA",
    "default_lakehouse_workspace_id": "d7ae03b3-c53b-4ee6-af7e-0091be2e7cc4",
    "known_lakehouses": [
     {
      "id": "edea360e-6c6d-4761-aeca-d57df8bd7b91"
     }
    ]
   }
  },
  "kernel_info": {
   "name": "synapse_pyspark"
  },
  "kernelspec": {
   "display_name": "Synapse PySpark",
   "language": "Python",
   "name": "synapse_pyspark"
  },
  "language_info": {
   "name": "python"
  },
  "microsoft": {
   "language": "python",
   "language_group": "synapse_pyspark",
   "ms_spell_check": {
    "ms_spell_check_language": "en"
   }
  },
  "nteract": {
   "version": "nteract-front-end@1.0.0"
  },
  "spark_compute": {
   "compute_id": "/trident/default",
   "session_options": {
    "conf": {
     "spark.synapse.nbs.session.timeout": "1200000"
    }
   }
  }
 },
 "nbformat": 4,
 "nbformat_minor": 5
}
