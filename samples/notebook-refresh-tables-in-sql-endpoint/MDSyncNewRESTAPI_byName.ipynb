{
 "cells": [
  {
   "cell_type": "code",
   "execution_count": 29,
   "id": "723a50b0-bbd0-4f12-b915-58b478bc96ae",
   "metadata": {
    "microsoft": {
     "language": "python",
     "language_group": "synapse_pyspark"
    }
   },
   "outputs": [
    {
     "data": {
      "application/vnd.livy.statement-meta+json": {
       "execution_finish_time": "2025-08-27T07:22:32.2165602Z",
       "execution_start_time": "2025-08-27T07:22:31.8559133Z",
       "livy_statement_state": "available",
       "normalized_state": "finished",
       "parent_msg_id": "775be84c-d698-4570-b703-2da097bb6bbb",
       "queued_time": "2025-08-27T07:22:31.8547854Z",
       "session_id": "13261b34-66d2-40be-9a6d-b15e5a50d9f1",
       "session_start_time": null,
       "spark_pool": null,
       "state": "finished",
       "statement_id": 31,
       "statement_ids": [
        31
       ]
      },
      "text/plain": [
       "StatementMeta(, 13261b34-66d2-40be-9a6d-b15e5a50d9f1, 31, Finished, Available, Finished)"
      ]
     },
     "metadata": {},
     "output_type": "display_data"
    }
   ],
   "source": [
    "import json \n",
    "import notebookutils \n",
    "import sempy.fabric as fabric \n",
    "from sempy.fabric.exceptions import FabricHTTPException, WorkspaceNotFoundException\n",
    "import pandas as pd"
   ]
  },
  {
   "cell_type": "code",
   "execution_count": 30,
   "id": "c4ed4f0e-347d-4399-b3cb-cf4ab7adaae9",
   "metadata": {
    "microsoft": {
     "language": "python",
     "language_group": "synapse_pyspark"
    }
   },
   "outputs": [
    {
     "data": {
      "application/vnd.livy.statement-meta+json": {
       "execution_finish_time": "2025-08-27T07:22:32.5461069Z",
       "execution_start_time": "2025-08-27T07:22:32.2185007Z",
       "livy_statement_state": "available",
       "normalized_state": "finished",
       "parent_msg_id": "ee4ff92d-1147-4113-a09e-a12dcc542dbb",
       "queued_time": "2025-08-27T07:22:31.939727Z",
       "session_id": "13261b34-66d2-40be-9a6d-b15e5a50d9f1",
       "session_start_time": null,
       "spark_pool": null,
       "state": "finished",
       "statement_id": 32,
       "statement_ids": [
        32
       ]
      },
      "text/plain": [
       "StatementMeta(, 13261b34-66d2-40be-9a6d-b15e5a50d9f1, 32, Finished, Available, Finished)"
      ]
     },
     "metadata": {},
     "output_type": "display_data"
    }
   ],
   "source": [
    "# Semantic Link Client\n",
    "client = fabric.FabricRestClient()"
   ]
  },
  {
   "cell_type": "markdown",
   "id": "f1ae27c2-9a7c-4295-8623-499eaced9c7a",
   "metadata": {
    "microsoft": {
     "language": "python",
     "language_group": "synapse_pyspark"
    },
    "nteract": {
     "transient": {
      "deleting": false
     }
    }
   },
   "source": [
    "### Parameters"
   ]
  },
  {
   "cell_type": "code",
   "execution_count": null,
   "id": "5069c6c0-f913-4628-b609-0694435914d6",
   "metadata": {
    "microsoft": {
     "language": "python",
     "language_group": "synapse_pyspark"
    }
   },
   "outputs": [
    {
     "data": {
      "application/vnd.livy.statement-meta+json": {
       "execution_finish_time": "2025-08-27T07:22:32.8266718Z",
       "execution_start_time": "2025-08-27T07:22:32.5478968Z",
       "livy_statement_state": "available",
       "normalized_state": "finished",
       "parent_msg_id": "168c0630-79a0-4248-88ac-0d5048d824f7",
       "queued_time": "2025-08-27T07:22:32.1550732Z",
       "session_id": "13261b34-66d2-40be-9a6d-b15e5a50d9f1",
       "session_start_time": null,
       "spark_pool": null,
       "state": "finished",
       "statement_id": 33,
       "statement_ids": [
        33
       ]
      },
      "text/plain": [
       "StatementMeta(, 13261b34-66d2-40be-9a6d-b15e5a50d9f1, 33, Finished, Available, Finished)"
      ]
     },
     "metadata": {},
     "output_type": "display_data"
    }
   ],
   "source": [
    "# current workspace\n",
    "workspace_id=spark.conf.get(\"trident.workspace.id\")\n",
    "\n",
    "# explicit Lakehouse Name (you can use se your Parameter here)\n",
    "lakehouse_name = \"LAKEHOUSE_NAME\" # <-------------------------------- CHANGE THIS"
   ]
  },
  {
   "cell_type": "markdown",
   "id": "7c4ae990-3788-4231-9e0e-80b851c7566c",
   "metadata": {
    "microsoft": {
     "language": "python",
     "language_group": "synapse_pyspark"
    },
    "nteract": {
     "transient": {
      "deleting": false
     }
    }
   },
   "source": [
    "### Function to find the Lakehouse-ID by name"
   ]
  },
  {
   "cell_type": "code",
   "execution_count": 32,
   "id": "6786de60-52a6-4abf-93cc-1e725109aab5",
   "metadata": {
    "microsoft": {
     "language": "python",
     "language_group": "synapse_pyspark"
    }
   },
   "outputs": [
    {
     "data": {
      "application/vnd.livy.statement-meta+json": {
       "execution_finish_time": "2025-08-27T07:22:33.1313083Z",
       "execution_start_time": "2025-08-27T07:22:32.8285721Z",
       "livy_statement_state": "available",
       "normalized_state": "finished",
       "parent_msg_id": "2932b8e3-3af7-4634-8584-33d13d13cf09",
       "queued_time": "2025-08-27T07:22:32.3396092Z",
       "session_id": "13261b34-66d2-40be-9a6d-b15e5a50d9f1",
       "session_start_time": null,
       "spark_pool": null,
       "state": "finished",
       "statement_id": 34,
       "statement_ids": [
        34
       ]
      },
      "text/plain": [
       "StatementMeta(, 13261b34-66d2-40be-9a6d-b15e5a50d9f1, 34, Finished, Available, Finished)"
      ]
     },
     "metadata": {},
     "output_type": "display_data"
    }
   ],
   "source": [
    "def find_lakehouse_id(client: client, workspace_id: str, lakehouse_name: str) -> str | None:\n",
    "    items = client.get_paged(f\"/v1/workspaces/{workspace_id}/items\")\n",
    "    df = pd.json_normalize(items)\n",
    "    df_match = df[(df['displayName'] == lakehouse_name) & (df['type'].str.lower() == 'lakehouse')]\n",
    "    if not df_match.empty:\n",
    "        return df_match.iloc[0]['id']\n",
    "    return None"
   ]
  },
  {
   "cell_type": "markdown",
   "id": "bf9ff156-6594-442e-bf67-429bd2d771d1",
   "metadata": {
    "microsoft": {
     "language": "python",
     "language_group": "synapse_pyspark"
    },
    "nteract": {
     "transient": {
      "deleting": false
     }
    }
   },
   "source": [
    "### Helper function"
   ]
  },
  {
   "cell_type": "code",
   "execution_count": null,
   "id": "f0781acf-11cc-4e44-a7b9-f349d85ee5f3",
   "metadata": {
    "microsoft": {
     "language": "python",
     "language_group": "synapse_pyspark"
    }
   },
   "outputs": [
    {
     "data": {
      "application/vnd.livy.statement-meta+json": {
       "execution_finish_time": "2025-08-27T07:22:33.4685317Z",
       "execution_start_time": "2025-08-27T07:22:33.1332424Z",
       "livy_statement_state": "available",
       "normalized_state": "finished",
       "parent_msg_id": "333843aa-e876-4f85-bc0b-2b56006b9440",
       "queued_time": "2025-08-27T07:22:32.8575085Z",
       "session_id": "13261b34-66d2-40be-9a6d-b15e5a50d9f1",
       "session_start_time": null,
       "spark_pool": null,
       "state": "finished",
       "statement_id": 35,
       "statement_ids": [
        35
       ]
      },
      "text/plain": [
       "StatementMeta(, 13261b34-66d2-40be-9a6d-b15e5a50d9f1, 35, Finished, Available, Finished)"
      ]
     },
     "metadata": {},
     "output_type": "display_data"
    }
   ],
   "source": [
    "def pad_or_truncate_string(input_string, length, pad_char=' '):\n",
    "    # Truncate if the string is longer than the specified length\n",
    "    if len(input_string) > length:\n",
    "        return input_string[:length]\n",
    "    # Pad if the string is shorter than the specified length\n",
    "    return input_string.ljust(length, pad_char)"
   ]
  },
  {
   "cell_type": "markdown",
   "id": "75a0c9ac-c6da-4b76-920b-d4fd403ec42b",
   "metadata": {
    "microsoft": {
     "language": "python",
     "language_group": "synapse_pyspark"
    },
    "nteract": {
     "transient": {
      "deleting": false
     }
    }
   },
   "source": [
    "### MDSyncNewRESTAPI"
   ]
  },
  {
   "cell_type": "code",
   "execution_count": null,
   "id": "6931df99-bd10-46a1-98cf-1928e269ab87",
   "metadata": {
    "microsoft": {
     "language": "python",
     "language_group": "synapse_pyspark"
    }
   },
   "outputs": [],
   "source": [
    "#workspace_id=spark.conf.get(\"trident.workspace.id\")\n",
    "#lakehouse_id=spark.conf.get(\"trident.lakehouse.id\")\n",
    "\n",
    "#Instantiate the client\n",
    "#client = fabric.FabricRestClient()\n",
    "\n",
    "#find lakehouse ID\n",
    "lakehouse_id = find_lakehouse_id(client, workspace_id, lakehouse_name)\n",
    "\n",
    "# This is the SQL endpoint I want to sync with the lakehouse, this needs to be the GUI\n",
    "sqlendpoint = fabric.FabricRestClient().get(f\"/v1/workspaces/{workspace_id}/lakehouses/{lakehouse_id}\").json()['properties']['sqlEndpointProperties']['id']\n",
    "\n",
    "# URI for the call \n",
    "#uri = f\"v1/workspaces/{workspace_id}/sqlEndpoints/{sqlendpoint}/refreshMetadata?preview=true\" #preview=true is no longer needed, the result is slightly different with preview=true\n",
    "uri = f\"v1/workspaces/{workspace_id}/sqlEndpoints/{sqlendpoint}/refreshMetadata\" \n",
    "\n",
    "# This is the action, we want to take \n",
    "# payload = {} # empty payload, all tables\n",
    "# Example of setting a timeout\n",
    "payload = { \"timeout\": {\"timeUnit\": \"Seconds\", \"value\": \"60\"}  }  # Setting a timeout for the REST call\n",
    "\n",
    "try:\n",
    "    response = client.post(uri,json= payload, lro_wait = True) \n",
    "    sync_status = json.loads(response.text)\n",
    "    display(sync_status)\n",
    "except Exception as e: print(e)"
   ]
  }
 ],
 "metadata": {
  "dependencies": {
   "lakehouse": {
    "default_lakehouse": "d360add4-f0a8-4065-8fab-ff094796f9a8",
    "default_lakehouse_name": "April6",
    "default_lakehouse_workspace_id": "c2e1c5a3-3373-4485-8226-5b428f0efd89",
    "known_lakehouses": [
     {
      "id": "d360add4-f0a8-4065-8fab-ff094796f9a8"
     }
    ]
   }
  },
  "kernel_info": {
   "name": "synapse_pyspark"
  },
  "kernelspec": {
   "display_name": "Synapse PySpark",
   "language": "Python",
   "name": "synapse_pyspark"
  },
  "language_info": {
   "name": "python"
  },
  "microsoft": {
   "language": "python",
   "language_group": "synapse_pyspark",
   "ms_spell_check": {
    "ms_spell_check_language": "en"
   }
  },
  "nteract": {
   "version": "nteract-front-end@1.0.0"
  },
  "spark_compute": {
   "compute_id": "/trident/default",
   "session_options": {
    "conf": {
     "spark.synapse.nbs.session.timeout": "1200000"
    }
   }
  }
 },
 "nbformat": 4,
 "nbformat_minor": 5
}
